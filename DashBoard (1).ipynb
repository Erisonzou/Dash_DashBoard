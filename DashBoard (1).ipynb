{
  "nbformat": 4,
  "nbformat_minor": 0,
  "metadata": {
    "colab": {
      "name": "DashBoard.ipynb",
      "provenance": []
    },
    "kernelspec": {
      "name": "python3",
      "display_name": "Python 3"
    },
    "language_info": {
      "name": "python"
    }
  },
  "cells": [
    {
      "cell_type": "code",
      "execution_count": null,
      "metadata": {
        "colab": {
          "base_uri": "https://localhost:8080/"
        },
        "id": "SDtph6TawLVa",
        "outputId": "76eec5f2-230b-4997-d5f7-fffe307b87c5"
      },
      "outputs": [
        {
          "output_type": "stream",
          "name": "stdout",
          "text": [
            "Collecting sodapy\n",
            "  Downloading sodapy-2.1.1-py2.py3-none-any.whl (14 kB)\n",
            "Requirement already satisfied: requests>=2.20.0 in /usr/local/lib/python3.7/dist-packages (from sodapy) (2.23.0)\n",
            "Requirement already satisfied: urllib3!=1.25.0,!=1.25.1,<1.26,>=1.21.1 in /usr/local/lib/python3.7/dist-packages (from requests>=2.20.0->sodapy) (1.24.3)\n",
            "Requirement already satisfied: chardet<4,>=3.0.2 in /usr/local/lib/python3.7/dist-packages (from requests>=2.20.0->sodapy) (3.0.4)\n",
            "Requirement already satisfied: certifi>=2017.4.17 in /usr/local/lib/python3.7/dist-packages (from requests>=2.20.0->sodapy) (2021.10.8)\n",
            "Requirement already satisfied: idna<3,>=2.5 in /usr/local/lib/python3.7/dist-packages (from requests>=2.20.0->sodapy) (2.10)\n",
            "Installing collected packages: sodapy\n",
            "Successfully installed sodapy-2.1.1\n"
          ]
        }
      ],
      "source": [
        "# importing libraries necessary for dataframe creation \n",
        "import pandas as pd\n",
        "from datetime import datetime\n",
        "import requests\n",
        "import json\n",
        "import os\n",
        "!pip install sodapy\n",
        "from sodapy import Socrata"
      ]
    },
    {
      "cell_type": "code",
      "source": [
        "#grabbing the data from the API\n",
        "\n",
        "token=\"slJTBjNWDQSDAXdxtfz16w5iU\"\n",
        "dataset_identifier=\"rc75-m7u3\"\n",
        "client = Socrata(\"data.cityofnewyork.us\", token)\n",
        "\n",
        "metadata=client.get_metadata(dataset_identifier)\n",
        "[x[\"name\"] for x in metadata[\"columns\"]]\n",
        "\n",
        "query = \"\"\"\n",
        "select date_of_interest,\n",
        "case_count,\n",
        "probable_case_count,\n",
        "death_count,\n",
        "hospitalized_count,\n",
        "bx_case_count,\n",
        "bx_death_count,\n",
        "bx_hospitalized_count,\n",
        "bk_case_count,\n",
        "bk_death_count,\n",
        "bk_hospitalized_count,\n",
        "mn_case_count,\n",
        "mn_death_count,\n",
        "mn_hospitalized_count,\n",
        "qn_case_count,\n",
        "qn_death_count,\n",
        "qn_hospitalized_count,\n",
        "si_case_count,\n",
        "si_death_count,\n",
        "si_hospitalized_count\n",
        "\"\"\"\n",
        "\n",
        "Covid_19 = client.get(dataset_identifier,query=query)\n",
        "\n",
        "Covid_19_df = pd.DataFrame.from_records(Covid_19)"
      ],
      "metadata": {
        "id": "mFkRY1Mzwwhy"
      },
      "execution_count": null,
      "outputs": []
    },
    {
      "cell_type": "code",
      "source": [
        "#Cleaning the Data\n",
        "\n",
        "Covid_19_dates=[]\n",
        "for stuff in Covid_19_df[\"date_of_interest\"]:\n",
        "  stuff=stuff.replace('T00:00:00.000','')\n",
        "  Covid_19_dates.append(stuff)\n"
      ],
      "metadata": {
        "id": "RQOKMrM0w1Em"
      },
      "execution_count": null,
      "outputs": []
    },
    {
      "cell_type": "code",
      "source": [
        "Covid_19_df[\"date_of_interest\"]=Covid_19_dates\n",
        "Covid_19_df['date_of_interest']=pd.to_datetime(Covid_19_df['date_of_interest'],format = '%Y/%m/%d')\n",
        "Covid_19_df[Covid_19_df.columns.difference(['date_of_interest'])]=Covid_19_df[Covid_19_df.columns.difference(['date_of_interest'])].apply(pd.to_numeric)\n",
        "\n",
        "Covid_19_df[\"Year\"] = pd.DatetimeIndex(Covid_19_df['date_of_interest']).year\n",
        "Covid_19_df[\"Month\"] = pd.DatetimeIndex(Covid_19_df['date_of_interest']).month\n",
        "Covid_19_df[\"Day\"] = pd.DatetimeIndex(Covid_19_df['date_of_interest']).day"
      ],
      "metadata": {
        "id": "rknDEXspS4Uh"
      },
      "execution_count": null,
      "outputs": []
    },
    {
      "cell_type": "code",
      "source": [
        "#installing Dash and libraries necessary for the Dashboard\n",
        "!pip install dash\n",
        "import plotly.express as px\n",
        "import dash\n",
        "import dash_core_components as dcc\n",
        "import dash_html_components as html\n",
        "from dash.dependencies import Input,Output"
      ],
      "metadata": {
        "colab": {
          "base_uri": "https://localhost:8080/"
        },
        "id": "zPq2OCCfxGRX",
        "outputId": "6beb6dfc-dd01-426a-8b5f-75de02639e7a"
      },
      "execution_count": null,
      "outputs": [
        {
          "output_type": "stream",
          "name": "stdout",
          "text": [
            "Collecting dash\n",
            "  Downloading dash-2.3.1-py3-none-any.whl (9.6 MB)\n",
            "\u001b[K     |████████████████████████████████| 9.6 MB 12.2 MB/s \n",
            "\u001b[?25hCollecting dash-core-components==2.0.0\n",
            "  Downloading dash_core_components-2.0.0-py3-none-any.whl (3.8 kB)\n",
            "Collecting dash-html-components==2.0.0\n",
            "  Downloading dash_html_components-2.0.0-py3-none-any.whl (4.1 kB)\n",
            "Requirement already satisfied: Flask>=1.0.4 in /usr/local/lib/python3.7/dist-packages (from dash) (1.1.4)\n",
            "Collecting flask-compress\n",
            "  Downloading Flask_Compress-1.11-py3-none-any.whl (7.9 kB)\n",
            "Requirement already satisfied: plotly>=5.0.0 in /usr/local/lib/python3.7/dist-packages (from dash) (5.5.0)\n",
            "Collecting dash-table==5.0.0\n",
            "  Downloading dash_table-5.0.0-py3-none-any.whl (3.9 kB)\n",
            "Requirement already satisfied: Werkzeug<2.0,>=0.15 in /usr/local/lib/python3.7/dist-packages (from Flask>=1.0.4->dash) (1.0.1)\n",
            "Requirement already satisfied: click<8.0,>=5.1 in /usr/local/lib/python3.7/dist-packages (from Flask>=1.0.4->dash) (7.1.2)\n",
            "Requirement already satisfied: itsdangerous<2.0,>=0.24 in /usr/local/lib/python3.7/dist-packages (from Flask>=1.0.4->dash) (1.1.0)\n",
            "Requirement already satisfied: Jinja2<3.0,>=2.10.1 in /usr/local/lib/python3.7/dist-packages (from Flask>=1.0.4->dash) (2.11.3)\n",
            "Requirement already satisfied: MarkupSafe>=0.23 in /usr/local/lib/python3.7/dist-packages (from Jinja2<3.0,>=2.10.1->Flask>=1.0.4->dash) (2.0.1)\n",
            "Requirement already satisfied: tenacity>=6.2.0 in /usr/local/lib/python3.7/dist-packages (from plotly>=5.0.0->dash) (8.0.1)\n",
            "Requirement already satisfied: six in /usr/local/lib/python3.7/dist-packages (from plotly>=5.0.0->dash) (1.15.0)\n",
            "Collecting brotli\n",
            "  Downloading Brotli-1.0.9-cp37-cp37m-manylinux1_x86_64.whl (357 kB)\n",
            "\u001b[K     |████████████████████████████████| 357 kB 65.7 MB/s \n",
            "\u001b[?25hInstalling collected packages: brotli, flask-compress, dash-table, dash-html-components, dash-core-components, dash\n",
            "Successfully installed brotli-1.0.9 dash-2.3.1 dash-core-components-2.0.0 dash-html-components-2.0.0 dash-table-5.0.0 flask-compress-1.11\n"
          ]
        },
        {
          "output_type": "stream",
          "name": "stderr",
          "text": [
            "/usr/local/lib/python3.7/dist-packages/ipykernel_launcher.py:5: UserWarning: \n",
            "The dash_core_components package is deprecated. Please replace\n",
            "`import dash_core_components as dcc` with `from dash import dcc`\n",
            "  \"\"\"\n",
            "/usr/local/lib/python3.7/dist-packages/ipykernel_launcher.py:6: UserWarning: \n",
            "The dash_html_components package is deprecated. Please replace\n",
            "`import dash_html_components as html` with `from dash import html`\n",
            "  \n"
          ]
        }
      ]
    },
    {
      "cell_type": "code",
      "source": [
        "app = dash.Dash(__name__)\n",
        "\n",
        "app.layout = html.Div([\n",
        "                       \n",
        "                       html.H1(\"Web Application Dashboard with DAsh\", style ={'text-align': 'center'}),\n",
        "\n",
        "                       dcc.Dropdown(id = \"Select_Year\",\n",
        "                                    options = [\n",
        "                                               {'label':'2020', 'value':2020},\n",
        "                                               {'label':'2021', 'value':2021},\n",
        "                                               {'label':'2022', 'value':2022}],\n",
        "                                    multi = False,\n",
        "                                    value = 2020,\n",
        "                                    style = {'width': \"40%\"}\n",
        "                                    ),\n",
        "                       html.Div(id=\"output_container\" , children = []),\n",
        "                       html.Br(),\n",
        "                       dcc.Graph(id = 'Covid_19_US_map',figure = {})\n",
        "])\n",
        "\n"
      ],
      "metadata": {
        "id": "vNiB4AQ5yHkp"
      },
      "execution_count": null,
      "outputs": []
    }
  ]
}